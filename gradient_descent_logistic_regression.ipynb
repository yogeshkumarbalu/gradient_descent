{
 "cells": [
  {
   "cell_type": "code",
   "execution_count": 6,
   "metadata": {
    "collapsed": true
   },
   "outputs": [],
   "source": [
    "import numpy as np\n",
    "def gradient_descent(x, y, alpha, theta, m, iterations):\n",
    "    '''\n",
    "    # x - independent variables in matrix format with 1's as first column\n",
    "    # y - dependent variables as COLUMN vector\n",
    "    # m - number of training examples\n",
    "    # alpha - steps for gradient descent\n",
    "    '''\n",
    "    for i in range(iterations):\n",
    "        '''\n",
    "        give theta as a COLUMN vector. \n",
    "        TODO: check if theta is a row or column vector and make sure it is converted to column at the end\n",
    "        TODO: make sure x has default 1's as the first column for the intercepts\n",
    "        '''\n",
    "        hypothesis = np.dot(x, theta)\n",
    "        sigmoid_hypothesis = 1/(1+np.exp(-hypothesis))\n",
    "        error = sigmoid_hypothesis - y\n",
    "        gradient = np.dot(x.T, error)/m\n",
    "        theta = theta - alpha*gradient\n",
    "    return theta"
   ]
  },
  {
   "cell_type": "code",
   "execution_count": 7,
   "metadata": {
    "collapsed": false
   },
   "outputs": [],
   "source": [
    "import random\n",
    "def genData(numPoints, bias, variance):\n",
    "    x = np.zeros(shape=(numPoints, 2))\n",
    "    for i in range(0, numPoints):\n",
    "        x[i][0] = 1\n",
    "        x[i][1] = i\n",
    "    return x\n",
    "\n",
    "x = genData(100, 25, 10)\n",
    "m, n = np.shape(x)\n",
    "numIterations= 100000\n",
    "alpha = 0.0005\n",
    "theta = np.ones(n).reshape(-1,1)\n",
    "y = np.random.randint(2, size=100).reshape(-1, 1)"
   ]
  },
  {
   "cell_type": "code",
   "execution_count": 8,
   "metadata": {
    "collapsed": false
   },
   "outputs": [
    {
     "data": {
      "text/plain": [
       "array([[-0.07207044],\n",
       "       [ 0.00747219]])"
      ]
     },
     "execution_count": 8,
     "metadata": {},
     "output_type": "execute_result"
    }
   ],
   "source": [
    "final_theta = gradient_descent(x,y,alpha,theta,m,numIterations)\n",
    "final_theta"
   ]
  },
  {
   "cell_type": "code",
   "execution_count": 9,
   "metadata": {
    "collapsed": true
   },
   "outputs": [],
   "source": [
    "# TODO: check the code with real time problem, may be with titanic... \n",
    "# (learn how to custom model for that problem w/o using sklearn)"
   ]
  }
 ],
 "metadata": {
  "kernelspec": {
   "display_name": "Python 3",
   "language": "python",
   "name": "python3"
  },
  "language_info": {
   "codemirror_mode": {
    "name": "ipython",
    "version": 3
   },
   "file_extension": ".py",
   "mimetype": "text/x-python",
   "name": "python",
   "nbconvert_exporter": "python",
   "pygments_lexer": "ipython3",
   "version": "3.6.0"
  }
 },
 "nbformat": 4,
 "nbformat_minor": 2
}
