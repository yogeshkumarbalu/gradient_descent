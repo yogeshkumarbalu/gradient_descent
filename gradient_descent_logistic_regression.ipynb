{
 "cells": [
  {
   "cell_type": "code",
   "execution_count": 43,
   "metadata": {
    "collapsed": true
   },
   "outputs": [],
   "source": [
    "import numpy as np\n",
    "def gradient_descent(x, y, alpha, theta, m, iterations):\n",
    "    '''\n",
    "    # x - independent variables in matrix format with 1's as first column\n",
    "    # y - dependent variables as COLUMN vector\n",
    "    # m - number of training examples\n",
    "    # alpha - steps for gradient descent\n",
    "    '''\n",
    "    for i in range(iterations):\n",
    "        '''\n",
    "        give theta as a COLUMN vector. \n",
    "        TODO: check if theta is a row or column vector and make sure it is converted to column at the end\n",
    "        TODO: make sure x has default 1's as the first column for the intercepts\n",
    "        '''\n",
    "        hypothesis = np.dot(x, theta)\n",
    "        sigmoid_hypothesis = 1/(1+np.exp(-hypothesis))\n",
    "        error = hypothesis - y\n",
    "        gradient = np.dot(x.T, error)/m\n",
    "        theta = theta - alpha*gradient\n",
    "    return theta"
   ]
  },
  {
   "cell_type": "code",
   "execution_count": null,
   "metadata": {
    "collapsed": true
   },
   "outputs": [],
   "source": []
  }
 ],
 "metadata": {
  "kernelspec": {
   "display_name": "Python 3",
   "language": "python",
   "name": "python3"
  },
  "language_info": {
   "codemirror_mode": {
    "name": "ipython",
    "version": 3
   },
   "file_extension": ".py",
   "mimetype": "text/x-python",
   "name": "python",
   "nbconvert_exporter": "python",
   "pygments_lexer": "ipython3",
   "version": "3.6.0"
  }
 },
 "nbformat": 4,
 "nbformat_minor": 2
}
