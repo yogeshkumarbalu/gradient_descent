{
 "cells": [
  {
   "cell_type": "code",
   "execution_count": 11,
   "metadata": {
    "collapsed": true
   },
   "outputs": [],
   "source": [
    "import numpy as np\n",
    "import random"
   ]
  },
  {
   "cell_type": "code",
   "execution_count": 71,
   "metadata": {
    "collapsed": true
   },
   "outputs": [],
   "source": [
    "def gradient_descent(x, y, alpha, theta, m, iterations):\n",
    "    '''\n",
    "    # x - independent variables in matrix format\n",
    "    # y - dependent variables as COLUMN vector\n",
    "    # m - number of training examples\n",
    "    # alpha - steps for gradient descent\n",
    "    '''\n",
    "    summed_x_feature = np.sum(x.transpose(), axis=1).reshape(-1,1)  # ----> COLUMN VECTOR\n",
    "    for i in range(iterations):\n",
    "        '''\n",
    "        give theta as a COLUMN vector. \n",
    "        TODO: check if theta is a row or column vector and make sure it is converted to column at the end\n",
    "        TODO: make sure x has default 1's as the first column for the intercepts\n",
    "        '''\n",
    "        hypothesis = np.dot(x, theta)\n",
    "        error = hypothesis - y\n",
    "        summed_error = np.sum(error)\n",
    "        gradient = (summed_error/m)*summed_x_feature\n",
    "        theta = theta - alpha*gradient\n",
    "        if i==100:\n",
    "            print(error, '------ERROR----')\n",
    "            print(summed_error, '------SUMMED ERROR----')\n",
    "            print(gradient, '---------GRADIENT')\n",
    "            print(theta, '-----------THETA-----------')\n",
    "            return theta\n",
    "        "
   ]
  },
  {
   "cell_type": "code",
   "execution_count": 72,
   "metadata": {
    "collapsed": true
   },
   "outputs": [],
   "source": [
    "def genData(numPoints, bias, variance):\n",
    "    x = np.zeros(shape=(numPoints, 2))\n",
    "    y = np.zeros(shape=numPoints)\n",
    "    # basically a straight line\n",
    "    for i in range(0, numPoints):\n",
    "        # bias feature\n",
    "        x[i][0] = 1\n",
    "        x[i][1] = i\n",
    "        # our target variable\n",
    "        y[i] = (i + bias) + random.uniform(0, 1) * variance\n",
    "    return x, y"
   ]
  },
  {
   "cell_type": "code",
   "execution_count": 96,
   "metadata": {
    "collapsed": false
   },
   "outputs": [],
   "source": [
    "# gen 100 points with a bias of 25 and 10 variance as a bit of noise\n",
    "x, y = genData(100, 25, 10)\n",
    "m, n = np.shape(x)\n",
    "numIterations= 1000\n",
    "alpha = 0.005\n",
    "theta = np.ones(n).reshape(-1,1)\n",
    "y = y.reshape(-1,1)"
   ]
  },
  {
   "cell_type": "code",
   "execution_count": 112,
   "metadata": {
    "collapsed": false
   },
   "outputs": [],
   "source": [
    "error = np.dot(x, theta) - y\n",
    "summed_error = np.sum(error)"
   ]
  },
  {
   "cell_type": "code",
   "execution_count": 113,
   "metadata": {
    "collapsed": false
   },
   "outputs": [
    {
     "data": {
      "text/plain": [
       "(100, 2)"
      ]
     },
     "execution_count": 113,
     "metadata": {},
     "output_type": "execute_result"
    }
   ],
   "source": [
    "x.shape"
   ]
  },
  {
   "cell_type": "code",
   "execution_count": null,
   "metadata": {
    "collapsed": true
   },
   "outputs": [],
   "source": []
  }
 ],
 "metadata": {
  "kernelspec": {
   "display_name": "Python 3",
   "language": "python",
   "name": "python3"
  },
  "language_info": {
   "codemirror_mode": {
    "name": "ipython",
    "version": 3
   },
   "file_extension": ".py",
   "mimetype": "text/x-python",
   "name": "python",
   "nbconvert_exporter": "python",
   "pygments_lexer": "ipython3",
   "version": "3.6.0"
  }
 },
 "nbformat": 4,
 "nbformat_minor": 2
}
