{
 "cells": [
  {
   "cell_type": "code",
   "execution_count": 25,
   "metadata": {
    "collapsed": true
   },
   "outputs": [],
   "source": [
    "import numpy as np\n",
    "def gradient_descent(x, y, alpha, theta, m, iterations):\n",
    "    '''\n",
    "    # x - independent variables in matrix format with 1's as first column\n",
    "    # y - dependent variables as COLUMN vector\n",
    "    # m - number of training examples\n",
    "    # alpha - steps for gradient descent\n",
    "    '''\n",
    "    for i in range(iterations):\n",
    "        '''\n",
    "        give theta as a COLUMN vector. \n",
    "        TODO: check if theta is a row or column vector and make sure it is converted to column at the end\n",
    "        TODO: make sure x has default 1's as the first column for the intercepts\n",
    "        '''\n",
    "        hypothesis = np.dot(x, theta)\n",
    "        sigmoid_hypothesis = 1/(1+np.exp(-hypothesis))\n",
    "        error = sigmoid_hypothesis - y\n",
    "        gradient = np.dot(x.T, error)/m\n",
    "        theta = theta - alpha*gradient\n",
    "    return theta"
   ]
  },
  {
   "cell_type": "code",
   "execution_count": 26,
   "metadata": {
    "collapsed": false
   },
   "outputs": [],
   "source": [
    "import random\n",
    "def genData(numPoints, bias, variance):\n",
    "    x = np.zeros(shape=(numPoints, 2))\n",
    "    for i in range(0, numPoints):\n",
    "        x[i][0] = 1\n",
    "        x[i][1] = i\n",
    "    return x\n",
    "\n",
    "x = genData(100, 25, 10)\n",
    "m, n = np.shape(x)\n",
    "numIterations= 100000\n",
    "alpha = 0.0005\n",
    "theta = np.ones(n).reshape(-1,1)\n",
    "y = np.random.randint(2, size=100).reshape(-1, 1)"
   ]
  },
  {
   "cell_type": "code",
   "execution_count": 27,
   "metadata": {
    "collapsed": false
   },
   "outputs": [
    {
     "data": {
      "text/plain": [
       "array([[  1.,   0.],\n",
       "       [  1.,   1.],\n",
       "       [  1.,   2.],\n",
       "       [  1.,   3.],\n",
       "       [  1.,   4.],\n",
       "       [  1.,   5.],\n",
       "       [  1.,   6.],\n",
       "       [  1.,   7.],\n",
       "       [  1.,   8.],\n",
       "       [  1.,   9.],\n",
       "       [  1.,  10.],\n",
       "       [  1.,  11.],\n",
       "       [  1.,  12.],\n",
       "       [  1.,  13.],\n",
       "       [  1.,  14.],\n",
       "       [  1.,  15.],\n",
       "       [  1.,  16.],\n",
       "       [  1.,  17.],\n",
       "       [  1.,  18.],\n",
       "       [  1.,  19.],\n",
       "       [  1.,  20.],\n",
       "       [  1.,  21.],\n",
       "       [  1.,  22.],\n",
       "       [  1.,  23.],\n",
       "       [  1.,  24.],\n",
       "       [  1.,  25.],\n",
       "       [  1.,  26.],\n",
       "       [  1.,  27.],\n",
       "       [  1.,  28.],\n",
       "       [  1.,  29.],\n",
       "       [  1.,  30.],\n",
       "       [  1.,  31.],\n",
       "       [  1.,  32.],\n",
       "       [  1.,  33.],\n",
       "       [  1.,  34.],\n",
       "       [  1.,  35.],\n",
       "       [  1.,  36.],\n",
       "       [  1.,  37.],\n",
       "       [  1.,  38.],\n",
       "       [  1.,  39.],\n",
       "       [  1.,  40.],\n",
       "       [  1.,  41.],\n",
       "       [  1.,  42.],\n",
       "       [  1.,  43.],\n",
       "       [  1.,  44.],\n",
       "       [  1.,  45.],\n",
       "       [  1.,  46.],\n",
       "       [  1.,  47.],\n",
       "       [  1.,  48.],\n",
       "       [  1.,  49.],\n",
       "       [  1.,  50.],\n",
       "       [  1.,  51.],\n",
       "       [  1.,  52.],\n",
       "       [  1.,  53.],\n",
       "       [  1.,  54.],\n",
       "       [  1.,  55.],\n",
       "       [  1.,  56.],\n",
       "       [  1.,  57.],\n",
       "       [  1.,  58.],\n",
       "       [  1.,  59.],\n",
       "       [  1.,  60.],\n",
       "       [  1.,  61.],\n",
       "       [  1.,  62.],\n",
       "       [  1.,  63.],\n",
       "       [  1.,  64.],\n",
       "       [  1.,  65.],\n",
       "       [  1.,  66.],\n",
       "       [  1.,  67.],\n",
       "       [  1.,  68.],\n",
       "       [  1.,  69.],\n",
       "       [  1.,  70.],\n",
       "       [  1.,  71.],\n",
       "       [  1.,  72.],\n",
       "       [  1.,  73.],\n",
       "       [  1.,  74.],\n",
       "       [  1.,  75.],\n",
       "       [  1.,  76.],\n",
       "       [  1.,  77.],\n",
       "       [  1.,  78.],\n",
       "       [  1.,  79.],\n",
       "       [  1.,  80.],\n",
       "       [  1.,  81.],\n",
       "       [  1.,  82.],\n",
       "       [  1.,  83.],\n",
       "       [  1.,  84.],\n",
       "       [  1.,  85.],\n",
       "       [  1.,  86.],\n",
       "       [  1.,  87.],\n",
       "       [  1.,  88.],\n",
       "       [  1.,  89.],\n",
       "       [  1.,  90.],\n",
       "       [  1.,  91.],\n",
       "       [  1.,  92.],\n",
       "       [  1.,  93.],\n",
       "       [  1.,  94.],\n",
       "       [  1.,  95.],\n",
       "       [  1.,  96.],\n",
       "       [  1.,  97.],\n",
       "       [  1.,  98.],\n",
       "       [  1.,  99.]])"
      ]
     },
     "execution_count": 27,
     "metadata": {},
     "output_type": "execute_result"
    }
   ],
   "source": [
    "x"
   ]
  },
  {
   "cell_type": "code",
   "execution_count": 28,
   "metadata": {
    "collapsed": false
   },
   "outputs": [
    {
     "data": {
      "text/plain": [
       "array([[1],\n",
       "       [1],\n",
       "       [0],\n",
       "       [1],\n",
       "       [0],\n",
       "       [0],\n",
       "       [0],\n",
       "       [0],\n",
       "       [1],\n",
       "       [1],\n",
       "       [1],\n",
       "       [0],\n",
       "       [0],\n",
       "       [0],\n",
       "       [1],\n",
       "       [1],\n",
       "       [0],\n",
       "       [0],\n",
       "       [0],\n",
       "       [1],\n",
       "       [0],\n",
       "       [1],\n",
       "       [1],\n",
       "       [1],\n",
       "       [1],\n",
       "       [0],\n",
       "       [0],\n",
       "       [1],\n",
       "       [0],\n",
       "       [0],\n",
       "       [0],\n",
       "       [0],\n",
       "       [1],\n",
       "       [1],\n",
       "       [0],\n",
       "       [1],\n",
       "       [0],\n",
       "       [1],\n",
       "       [1],\n",
       "       [0],\n",
       "       [0],\n",
       "       [1],\n",
       "       [1],\n",
       "       [1],\n",
       "       [0],\n",
       "       [1],\n",
       "       [0],\n",
       "       [1],\n",
       "       [0],\n",
       "       [0],\n",
       "       [1],\n",
       "       [0],\n",
       "       [1],\n",
       "       [1],\n",
       "       [0],\n",
       "       [0],\n",
       "       [0],\n",
       "       [0],\n",
       "       [0],\n",
       "       [1],\n",
       "       [0],\n",
       "       [0],\n",
       "       [0],\n",
       "       [0],\n",
       "       [1],\n",
       "       [1],\n",
       "       [0],\n",
       "       [1],\n",
       "       [1],\n",
       "       [1],\n",
       "       [1],\n",
       "       [1],\n",
       "       [1],\n",
       "       [0],\n",
       "       [1],\n",
       "       [0],\n",
       "       [1],\n",
       "       [1],\n",
       "       [0],\n",
       "       [1],\n",
       "       [1],\n",
       "       [1],\n",
       "       [0],\n",
       "       [1],\n",
       "       [1],\n",
       "       [1],\n",
       "       [0],\n",
       "       [0],\n",
       "       [1],\n",
       "       [1],\n",
       "       [0],\n",
       "       [1],\n",
       "       [0],\n",
       "       [0],\n",
       "       [1],\n",
       "       [0],\n",
       "       [0],\n",
       "       [1],\n",
       "       [1],\n",
       "       [1]])"
      ]
     },
     "execution_count": 28,
     "metadata": {},
     "output_type": "execute_result"
    }
   ],
   "source": [
    "y"
   ]
  },
  {
   "cell_type": "code",
   "execution_count": 30,
   "metadata": {
    "collapsed": false
   },
   "outputs": [
    {
     "data": {
      "text/plain": [
       "array([[-0.22387271],\n",
       "       [ 0.0064334 ]])"
      ]
     },
     "execution_count": 30,
     "metadata": {},
     "output_type": "execute_result"
    }
   ],
   "source": [
    "gradient_descent(x, y, alpha, theta, m, numIterations)  # TODO: Check with original problem (maybe with titanic)"
   ]
  },
  {
   "cell_type": "code",
   "execution_count": null,
   "metadata": {
    "collapsed": true
   },
   "outputs": [],
   "source": []
  }
 ],
 "metadata": {
  "kernelspec": {
   "display_name": "Python 3",
   "language": "python",
   "name": "python3"
  },
  "language_info": {
   "codemirror_mode": {
    "name": "ipython",
    "version": 3
   },
   "file_extension": ".py",
   "mimetype": "text/x-python",
   "name": "python",
   "nbconvert_exporter": "python",
   "pygments_lexer": "ipython3",
   "version": "3.6.0"
  }
 },
 "nbformat": 4,
 "nbformat_minor": 2
}
